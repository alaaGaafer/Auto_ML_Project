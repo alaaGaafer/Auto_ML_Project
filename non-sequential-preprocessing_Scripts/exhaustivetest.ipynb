{
 "cells": [
  {
   "cell_type": "markdown",
   "metadata": {},
   "source": [
    "# imports"
   ]
  },
  {
   "cell_type": "code",
   "execution_count": 1,
   "metadata": {},
   "outputs": [],
   "source": [
    "import pandas as pd\n",
    "from sklearn.feature_selection import SelectKBest, f_classif\n",
    "from sklearn.model_selection import train_test_split\n",
    "from bestmodel import Bestmodel\n",
    "from cashAlgorithm.smacClass import ProblemType\n",
    "\n"
   ]
  },
  {
   "cell_type": "code",
   "execution_count": 2,
   "metadata": {},
   "outputs": [],
   "source": [
    "# url = \"https://www.openml.org/data/get_csv/31/dataset_31.csv\"\n",
    "url='data.csv'\n",
    "df = pd.read_csv(url)\n",
    "#export the data to a csv file\n",
    "# df.to_csv('data.csv', index=False)\n",
    "df = df.dropna()\n",
    "\n",
    "# Convert categorical features to numerical\n",
    "df = pd.get_dummies(df, drop_first=True)\n",
    "target = \"class_good\"\n",
    "X = df.drop(columns=target)\n",
    "y = df[target]\n",
    "\n",
    "X_train_raw, X_test, y_train, y_test = train_test_split(X, y, test_size=0.2, random_state=42)\n",
    "\n",
    "def Which_features(X_train,y_train,number_of_columns):\n",
    "\n",
    "    # Select the top k features based on ANOVA F-statistic\n",
    "    selector = SelectKBest(score_func=f_classif, k=number_of_columns)\n",
    "    X_train_selected = selector.fit_transform(X_train, y_train)\n",
    "\n",
    "    # Get the column names of the selected features\n",
    "    selected_feature_names = X_train.columns[selector.get_support()]\n",
    "\n",
    "    \n",
    "    return list(selected_feature_names)\n",
    "\n",
    "selected_features = Which_features(X_train_raw,y_train,number_of_columns=15)\n",
    "X =X[selected_features]\n",
    "X_train_raw = X_train_raw[selected_features]\n",
    "X_test = X_test[selected_features]\n",
    "# selected_features"
   ]
  },
  {
   "cell_type": "code",
   "execution_count": 18,
   "metadata": {},
   "outputs": [
    {
     "name": "stdout",
     "output_type": "stream",
     "text": [
      "[INFO][abstract_initial_design.py:95] Reducing the number of initial configurations from 30 to 25 (max_ratio == 0.25).\n",
      "[INFO][abstract_initial_design.py:147] Using 22 initial design configurations and 0 additional configurations.\n",
      "let's start the optimization\n",
      "[INFO][abstract_intensifier.py:305] Using only one seed for deterministic scenario.\n",
      "[INFO][abstract_intensifier.py:515] Added config 61f4fc as new incumbent because there are no incumbents yet.\n",
      "[INFO][abstract_intensifier.py:594] Added config 1720ca and rejected config 61f4fc as incumbent because it is not better than the incumbents on 1 instances:\n",
      "[INFO][abstract_intensifier.py:594] Added config a182d5 and rejected config 1720ca as incumbent because it is not better than the incumbents on 1 instances:\n",
      "The incumbent is: {'Models': 'LR', 'regularizationStre': 0.34194479216821494}\n",
      "The incumbent loss is: 0.18999999999999995\n",
      "The incumbent is: {'Models': 'LR', 'regularizationStre': 0.34194479216821494}\n",
      "The incumbent loss is: 0.18999999999999995\n",
      "The incumbent is: {'Models': 'LR', 'regularizationStre': 0.34194479216821494}\n",
      "The incumbent loss is: 0.18999999999999995\n",
      "The incumbent has remained the same for 30 trials.\n",
      "Stopping the optimization process.\n",
      "[INFO][smbo.py:224] A callback returned False. Abort is requested.\n",
      "[INFO][smbo.py:332] Shutting down because the stop flag was set.\n",
      "Model accuracy: 81.00%\n",
      "LogisticRegression(C=0.34194479216821494, max_iter=1000)\n"
     ]
    }
   ],
   "source": [
    "\n",
    "import warnings\n",
    "warnings.filterwarnings(\"ignore\")\n",
    "#testsvm, test regression, test time series\n",
    "if __name__ == '__main__':\n",
    "    problemtype = ProblemType.CLASSIFICATION\n",
    "    choosenModels=['KNN','LR']\n",
    "    Bestmodelobj = Bestmodel(problemtype,choosenModels,X_train_raw,X_test,y_train,y_test)\n",
    "    Bestmodelobj.splitTestData()\n",
    "    Bestmodelobj.TrainModel()\n",
    "    predictions=Bestmodelobj.PredictModel(X_test)\n",
    "    print(Bestmodelobj.modelobj)\n"
   ]
  },
  {
   "cell_type": "code",
   "execution_count": null,
   "metadata": {},
   "outputs": [],
   "source": []
  }
 ],
 "metadata": {
  "kernelspec": {
   "display_name": "Python 3",
   "language": "python",
   "name": "python3"
  },
  "language_info": {
   "codemirror_mode": {
    "name": "ipython",
    "version": 3
   },
   "file_extension": ".py",
   "mimetype": "text/x-python",
   "name": "python",
   "nbconvert_exporter": "python",
   "pygments_lexer": "ipython3",
   "version": "3.11.5"
  }
 },
 "nbformat": 4,
 "nbformat_minor": 2
}
