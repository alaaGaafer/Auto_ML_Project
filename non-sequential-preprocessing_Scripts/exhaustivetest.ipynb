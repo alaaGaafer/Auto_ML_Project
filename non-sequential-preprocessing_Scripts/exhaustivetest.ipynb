{
 "cells": [
  {
   "cell_type": "markdown",
   "metadata": {},
   "source": [
    "# imports"
   ]
  },
  {
   "cell_type": "code",
   "execution_count": 1,
   "metadata": {},
   "outputs": [],
   "source": [
    "import pandas as pd\n",
    "from sklearn.feature_selection import SelectKBest, f_classif\n",
    "from sklearn.model_selection import train_test_split\n",
    "from bestmodel import Bestmodel\n",
    "from cashAlgorithm.smacClass import ProblemType\n",
    "\n"
   ]
  },
  {
   "cell_type": "code",
   "execution_count": 2,
   "metadata": {},
   "outputs": [],
   "source": [
    "# # url = \"https://www.openml.org/data/get_csv/31/dataset_31.csv\"\n",
    "# url='data.csv'\n",
    "# df = pd.read_csv(url)\n",
    "# #export the data to a csv file\n",
    "# # df.to_csv('data.csv', index=False)\n",
    "# df = df.dropna()\n",
    "\n",
    "# # Convert categorical features to numerical\n",
    "# df = pd.get_dummies(df, drop_first=True)\n",
    "# target = \"class_good\"\n",
    "# # X = df.drop(columns=target)\n",
    "# y = df[target]\n",
    "\n",
    "# X_train_raw, X_test, y_train, y_test = train_test_split(X, y, test_size=0.2, random_state=42)\n",
    "\n",
    "# def Which_features(X_train,y_train,number_of_columns):\n",
    "\n",
    "#     # Select the top k features based on ANOVA F-statistic\n",
    "#     selector = SelectKBest(score_func=f_classif, k=number_of_columns)\n",
    "#     X_train_selected = selector.fit_transform(X_train, y_train)\n",
    "\n",
    "#     # Get the column names of the selected features\n",
    "#     selected_feature_names = X_train.columns[selector.get_support()]\n",
    "\n",
    "    \n",
    "#     return list(selected_feature_names)\n",
    "\n",
    "# selected_features = Which_features(X_train_raw,y_train,number_of_columns=15)\n",
    "# X =X[selected_features]\n",
    "# X_train_raw = X_train_raw[selected_features]\n",
    "# X_test = X_test[selected_features]\n",
    "# # selected_features\n"
   ]
  },
  {
   "cell_type": "code",
   "execution_count": 3,
   "metadata": {},
   "outputs": [],
   "source": [
    "# #try svc with linear kernel and on datasetabove\n",
    "# from sklearn.svm import SVC\n",
    "# from sklearn.metrics import accuracy_score\n",
    "# from sklearn.metrics import classification_report\n",
    "# from sklearn.metrics import confusion_matrix\n",
    "# svcobj = SVC(kernel='linear')\n",
    "# svcobj.fit(X_train_raw, y_train)\n",
    "# y_pred = svcobj.predict(X_test)\n",
    "# accuracy = accuracy_score(y_test, y_pred)"
   ]
  },
  {
   "cell_type": "code",
   "execution_count": 4,
   "metadata": {},
   "outputs": [],
   "source": [
    "\n",
    "# import warnings\n",
    "# warnings.filterwarnings(\"ignore\")\n",
    "# #testsvm, test regression, test time series\n",
    "# if __name__ == '__main__':\n",
    "#     problemtype = ProblemType.CLASSIFICATION\n",
    "#     choosenModels=['KNN','LR']\n",
    "#     Bestmodelobj = Bestmodel(problemtype,choosenModels,X_train_raw,X_test,y_train,y_test)\n",
    "#     Bestmodelobj.splitTestData()\n",
    "#     Bestmodelobj.TrainModel()\n",
    "#     predictions=Bestmodelobj.PredictModel(X_test)\n",
    "#     print(Bestmodelobj.modelobj)\n"
   ]
  },
  {
   "cell_type": "code",
   "execution_count": 5,
   "metadata": {},
   "outputs": [],
   "source": [
    "# from sklearn.linear_model import LinearRegression\n",
    "# from sklearn.model_selection import train_test_split\n",
    "# from sklearn.metrics import mean_squared_error\n",
    "# from sklearn import datasets\n",
    "# iris = datasets.load_iris()\n",
    "\n",
    "# X = iris.data[:, 1:]\n",
    "# y = iris.data[:, 0] \n",
    "\n",
    "# X_train, X_test, y_train, y_test = train_test_split(X, y, test_size=0.2, random_state=42)\n",
    "# model = LinearRegression()\n",
    "# model.fit(X_train, y_train)\n",
    "# y_pred = model.predict(X_test)\n",
    "# mse = mean_squared_error(y_test, y_pred)\n",
    "# print(\"Mean Squared Error:\", mse)"
   ]
  },
  {
   "cell_type": "code",
   "execution_count": 6,
   "metadata": {},
   "outputs": [],
   "source": [
    "# # ['LinearRegression','Lasso','Ridge','RF','XGboost']\n",
    "# if __name__ == \"__main__\":\n",
    "#     problemtype = ProblemType.REGRESSION\n",
    "#     choosenModels=['LR','Lasso','Ridge','RF','XGboost']\n",
    "#     Bestmodelobj = Bestmodel(problemtype,choosenModels,X_train,X_test,y_train,y_test)\n",
    "#     Bestmodelobj.splitTestData()\n",
    "#     Bestmodelobj.TrainModel()\n",
    "#     predictions=Bestmodelobj.PredictModel(X_test)\n",
    "#     print(Bestmodelobj.modelobj)"
   ]
  },
  {
   "cell_type": "code",
   "execution_count": 7,
   "metadata": {},
   "outputs": [],
   "source": [
    "path = r\"daily-minimum-temperatures-in-me.csv\"\n",
    "df =pd.read_csv(path)\n",
    "df.rename(columns={'Date': 'ds', 'Daily minimum temperatures': 'y'}, inplace=True)\n",
    "df['ds'] = pd.to_datetime(df['ds'], format='%m/%d/%Y')\n",
    "df['y'] = df['y'].str.replace('[^0-9\\.]', '', regex=True)\n",
    "df['y'] = pd.to_numeric(df['y'], errors='coerce')\n",
    "df['y'] = df['y'].astype(float)\n",
    "df.set_index('ds', inplace=True)\n",
    "split_date = pd.to_datetime('1990-12-15')\n",
    "train_data = df[df.index <= split_date]\n",
    "test_data = df[df.index > split_date]\n",
    "traindatax='lol'\n",
    "test_datax='loll'"
   ]
  },
  {
   "cell_type": "code",
   "execution_count": 8,
   "metadata": {},
   "outputs": [
    {
     "data": {
      "text/html": [
       "<div>\n",
       "<style scoped>\n",
       "    .dataframe tbody tr th:only-of-type {\n",
       "        vertical-align: middle;\n",
       "    }\n",
       "\n",
       "    .dataframe tbody tr th {\n",
       "        vertical-align: top;\n",
       "    }\n",
       "\n",
       "    .dataframe thead th {\n",
       "        text-align: right;\n",
       "    }\n",
       "</style>\n",
       "<table border=\"1\" class=\"dataframe\">\n",
       "  <thead>\n",
       "    <tr style=\"text-align: right;\">\n",
       "      <th></th>\n",
       "      <th>y</th>\n",
       "    </tr>\n",
       "    <tr>\n",
       "      <th>ds</th>\n",
       "      <th></th>\n",
       "    </tr>\n",
       "  </thead>\n",
       "  <tbody>\n",
       "    <tr>\n",
       "      <th>1981-01-01</th>\n",
       "      <td>20.7</td>\n",
       "    </tr>\n",
       "    <tr>\n",
       "      <th>1981-01-02</th>\n",
       "      <td>17.9</td>\n",
       "    </tr>\n",
       "    <tr>\n",
       "      <th>1981-01-03</th>\n",
       "      <td>18.8</td>\n",
       "    </tr>\n",
       "    <tr>\n",
       "      <th>1981-01-04</th>\n",
       "      <td>14.6</td>\n",
       "    </tr>\n",
       "    <tr>\n",
       "      <th>1981-01-05</th>\n",
       "      <td>15.8</td>\n",
       "    </tr>\n",
       "    <tr>\n",
       "      <th>...</th>\n",
       "      <td>...</td>\n",
       "    </tr>\n",
       "    <tr>\n",
       "      <th>1990-12-11</th>\n",
       "      <td>11.1</td>\n",
       "    </tr>\n",
       "    <tr>\n",
       "      <th>1990-12-12</th>\n",
       "      <td>14.0</td>\n",
       "    </tr>\n",
       "    <tr>\n",
       "      <th>1990-12-13</th>\n",
       "      <td>11.4</td>\n",
       "    </tr>\n",
       "    <tr>\n",
       "      <th>1990-12-14</th>\n",
       "      <td>12.5</td>\n",
       "    </tr>\n",
       "    <tr>\n",
       "      <th>1990-12-15</th>\n",
       "      <td>13.4</td>\n",
       "    </tr>\n",
       "  </tbody>\n",
       "</table>\n",
       "<p>3634 rows × 1 columns</p>\n",
       "</div>"
      ],
      "text/plain": [
       "               y\n",
       "ds              \n",
       "1981-01-01  20.7\n",
       "1981-01-02  17.9\n",
       "1981-01-03  18.8\n",
       "1981-01-04  14.6\n",
       "1981-01-05  15.8\n",
       "...          ...\n",
       "1990-12-11  11.1\n",
       "1990-12-12  14.0\n",
       "1990-12-13  11.4\n",
       "1990-12-14  12.5\n",
       "1990-12-15  13.4\n",
       "\n",
       "[3634 rows x 1 columns]"
      ]
     },
     "execution_count": 8,
     "metadata": {},
     "output_type": "execute_result"
    }
   ],
   "source": [
    "train_data"
   ]
  },
  {
   "cell_type": "code",
   "execution_count": 9,
   "metadata": {},
   "outputs": [
    {
     "name": "stdout",
     "output_type": "stream",
     "text": [
      "[INFO][abstract_initial_design.py:95] Reducing the number of initial configurations from 70 to 25 (max_ratio == 0.25).\n",
      "[INFO][abstract_initial_design.py:147] Using 25 initial design configurations and 0 additional configurations.\n",
      "let's start the optimization\n",
      "[INFO][abstract_intensifier.py:305] Using only one seed for deterministic scenario.\n",
      "[INFO][abstract_intensifier.py:515] Added config 0963f6 as new incumbent because there are no incumbents yet.\n",
      "[INFO][abstract_intensifier.py:594] Added config f1b465 and rejected config 0963f6 as incumbent because it is not better than the incumbents on 1 instances:\n"
     ]
    },
    {
     "name": "stderr",
     "output_type": "stream",
     "text": [
      "c:\\Users\\dell\\AppData\\Local\\Programs\\Python\\Python311\\Lib\\site-packages\\statsmodels\\tsa\\statespace\\sarimax.py:978: UserWarning: Non-invertible starting MA parameters found. Using zeros as starting parameters.\n",
      "  warn('Non-invertible starting MA parameters found.'\n"
     ]
    },
    {
     "name": "stdout",
     "output_type": "stream",
     "text": [
      "The incumbent is: {'Models': 'Arima', 'd': 1, 'p': 2, 'q': 2}\n",
      "The incumbent loss is: 6.898380308584966\n"
     ]
    },
    {
     "name": "stderr",
     "output_type": "stream",
     "text": [
      "c:\\Users\\dell\\AppData\\Local\\Programs\\Python\\Python311\\Lib\\site-packages\\statsmodels\\tsa\\statespace\\sarimax.py:978: UserWarning: Non-invertible starting MA parameters found. Using zeros as starting parameters.\n",
      "  warn('Non-invertible starting MA parameters found.'\n"
     ]
    },
    {
     "name": "stdout",
     "output_type": "stream",
     "text": [
      "[INFO][abstract_intensifier.py:594] Added config 3ad622 and rejected config f1b465 as incumbent because it is not better than the incumbents on 1 instances:\n"
     ]
    },
    {
     "name": "stderr",
     "output_type": "stream",
     "text": [
      "c:\\Users\\dell\\AppData\\Local\\Programs\\Python\\Python311\\Lib\\site-packages\\statsmodels\\tsa\\statespace\\sarimax.py:978: UserWarning: Non-invertible starting MA parameters found. Using zeros as starting parameters.\n",
      "  warn('Non-invertible starting MA parameters found.'\n",
      "c:\\Users\\dell\\AppData\\Local\\Programs\\Python\\Python311\\Lib\\site-packages\\statsmodels\\base\\model.py:607: ConvergenceWarning: Maximum Likelihood optimization failed to converge. Check mle_retvals\n",
      "  warnings.warn(\"Maximum Likelihood optimization failed to \"\n"
     ]
    },
    {
     "name": "stdout",
     "output_type": "stream",
     "text": [
      "The incumbent is: {'Models': 'Arima', 'd': 1, 'p': 3, 'q': 1}\n",
      "The incumbent loss is: 6.898018460328258\n"
     ]
    },
    {
     "name": "stderr",
     "output_type": "stream",
     "text": [
      "c:\\Users\\dell\\AppData\\Local\\Programs\\Python\\Python311\\Lib\\site-packages\\statsmodels\\base\\model.py:607: ConvergenceWarning: Maximum Likelihood optimization failed to converge. Check mle_retvals\n",
      "  warnings.warn(\"Maximum Likelihood optimization failed to \"\n"
     ]
    },
    {
     "name": "stdout",
     "output_type": "stream",
     "text": [
      "[INFO][abstract_intensifier.py:594] Added config d28d28 and rejected config 3ad622 as incumbent because it is not better than the incumbents on 1 instances:\n",
      "The incumbent is: {'Models': 'Arima', 'd': 1, 'p': 3, 'q': 2}\n",
      "The incumbent loss is: 6.8969664136037485\n",
      "[INFO][abstract_intensifier.py:594] Added config 15665a and rejected config d28d28 as incumbent because it is not better than the incumbents on 1 instances:\n",
      "The incumbent is: {'Models': 'Arima', 'd': 1, 'p': 3, 'q': 3}\n",
      "The incumbent loss is: 6.884024913035662\n"
     ]
    },
    {
     "name": "stderr",
     "output_type": "stream",
     "text": [
      "c:\\Users\\dell\\AppData\\Local\\Programs\\Python\\Python311\\Lib\\site-packages\\statsmodels\\tsa\\statespace\\sarimax.py:978: UserWarning: Non-invertible starting MA parameters found. Using zeros as starting parameters.\n",
      "  warn('Non-invertible starting MA parameters found.'\n",
      "c:\\Users\\dell\\AppData\\Local\\Programs\\Python\\Python311\\Lib\\site-packages\\statsmodels\\tsa\\statespace\\sarimax.py:978: UserWarning: Non-invertible starting MA parameters found. Using zeros as starting parameters.\n",
      "  warn('Non-invertible starting MA parameters found.'\n"
     ]
    },
    {
     "name": "stdout",
     "output_type": "stream",
     "text": [
      "[INFO][abstract_intensifier.py:594] Added config 91e9ac and rejected config 15665a as incumbent because it is not better than the incumbents on 1 instances:\n",
      "The incumbent is: {'Models': 'Arima', 'd': 1, 'p': 2, 'q': 3}\n",
      "The incumbent loss is: 6.8788772639947995\n",
      "[INFO][smbo.py:319] Finished 50 trials.\n"
     ]
    },
    {
     "name": "stderr",
     "output_type": "stream",
     "text": [
      "c:\\Users\\dell\\AppData\\Local\\Programs\\Python\\Python311\\Lib\\site-packages\\statsmodels\\tsa\\statespace\\sarimax.py:966: UserWarning: Non-stationary starting autoregressive parameters found. Using zeros as starting parameters.\n",
      "  warn('Non-stationary starting autoregressive parameters'\n",
      "c:\\Users\\dell\\AppData\\Local\\Programs\\Python\\Python311\\Lib\\site-packages\\statsmodels\\tsa\\statespace\\sarimax.py:978: UserWarning: Non-invertible starting MA parameters found. Using zeros as starting parameters.\n",
      "  warn('Non-invertible starting MA parameters found.'\n"
     ]
    },
    {
     "name": "stdout",
     "output_type": "stream",
     "text": [
      "The incumbent is: {'Models': 'Arima', 'd': 1, 'p': 2, 'q': 3}\n",
      "The incumbent loss is: 6.8788772639947995\n"
     ]
    },
    {
     "name": "stderr",
     "output_type": "stream",
     "text": [
      "c:\\Users\\dell\\AppData\\Local\\Programs\\Python\\Python311\\Lib\\site-packages\\statsmodels\\tsa\\statespace\\sarimax.py:978: UserWarning: Non-invertible starting MA parameters found. Using zeros as starting parameters.\n",
      "  warn('Non-invertible starting MA parameters found.'\n",
      "c:\\Users\\dell\\AppData\\Local\\Programs\\Python\\Python311\\Lib\\site-packages\\statsmodels\\tsa\\statespace\\sarimax.py:978: UserWarning: Non-invertible starting MA parameters found. Using zeros as starting parameters.\n",
      "  warn('Non-invertible starting MA parameters found.'\n",
      "c:\\Users\\dell\\AppData\\Local\\Programs\\Python\\Python311\\Lib\\site-packages\\statsmodels\\tsa\\statespace\\sarimax.py:966: UserWarning: Non-stationary starting autoregressive parameters found. Using zeros as starting parameters.\n",
      "  warn('Non-stationary starting autoregressive parameters'\n",
      "c:\\Users\\dell\\AppData\\Local\\Programs\\Python\\Python311\\Lib\\site-packages\\statsmodels\\tsa\\statespace\\sarimax.py:978: UserWarning: Non-invertible starting MA parameters found. Using zeros as starting parameters.\n",
      "  warn('Non-invertible starting MA parameters found.'\n"
     ]
    },
    {
     "name": "stdout",
     "output_type": "stream",
     "text": [
      "The incumbent is: {'Models': 'Arima', 'd': 1, 'p': 2, 'q': 3}\n",
      "The incumbent loss is: 6.8788772639947995\n"
     ]
    },
    {
     "name": "stderr",
     "output_type": "stream",
     "text": [
      "c:\\Users\\dell\\AppData\\Local\\Programs\\Python\\Python311\\Lib\\site-packages\\statsmodels\\tsa\\statespace\\sarimax.py:978: UserWarning: Non-invertible starting MA parameters found. Using zeros as starting parameters.\n",
      "  warn('Non-invertible starting MA parameters found.'\n"
     ]
    },
    {
     "name": "stdout",
     "output_type": "stream",
     "text": [
      "The incumbent has remained the same for 30 trials.\n",
      "Stopping the optimization process.\n",
      "[INFO][smbo.py:224] A callback returned False. Abort is requested.\n",
      "[INFO][smbo.py:332] Shutting down because the stop flag was set.\n"
     ]
    }
   ],
   "source": [
    "if __name__==\"__main__\":\n",
    "    problemtype = ProblemType.TIME_SERIES\n",
    "    choosenModels=['Arima','Sarima']\n",
    "    Bestmodelobj = Bestmodel(problemtype,choosenModels,traindatax,traindatax,train_data,test_data)\n",
    "    Bestmodelobj.splitTestData()\n",
    "    Bestmodelobj.Getincumbent()\n",
    "    "
   ]
  },
  {
   "cell_type": "code",
   "execution_count": null,
   "metadata": {},
   "outputs": [],
   "source": []
  }
 ],
 "metadata": {
  "kernelspec": {
   "display_name": "Python 3",
   "language": "python",
   "name": "python3"
  },
  "language_info": {
   "codemirror_mode": {
    "name": "ipython",
    "version": 3
   },
   "file_extension": ".py",
   "mimetype": "text/x-python",
   "name": "python",
   "nbconvert_exporter": "python",
   "pygments_lexer": "ipython3",
   "version": "3.11.5"
  }
 },
 "nbformat": 4,
 "nbformat_minor": 2
}
